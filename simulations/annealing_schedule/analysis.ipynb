{
 "cells": [
  {
   "cell_type": "code",
   "execution_count": 1,
   "metadata": {},
   "outputs": [],
   "source": [
    "%load_ext autoreload\n",
    "%autoreload 2"
   ]
  },
  {
   "cell_type": "code",
   "execution_count": 2,
   "metadata": {},
   "outputs": [],
   "source": [
    "import signac\n",
    "import cg_pyrosetta\n",
    "import numpy as np\n",
    "import pandas as pd\n",
    "import copy\n",
    "import os\n",
    "import flow\n",
    "import analyze_foldamers\n",
    "import matplotlib.pyplot as plt\n",
    "import mdtraj as md\n",
    "from flow import FlowProject\n",
    "plt.rcParams[\"font.family\"] = \"serif\"\n",
    "plt.rcParams.update({\"font.size\" : 15})"
   ]
  },
  {
   "cell_type": "code",
   "execution_count": 8,
   "metadata": {},
   "outputs": [
    {
     "ename": "ValueError",
     "evalue": "too many values to unpack (expected 2)",
     "output_type": "error",
     "traceback": [
      "\u001b[0;31m---------------------------------------------------------------------------\u001b[0m",
      "\u001b[0;31mValueError\u001b[0m                                Traceback (most recent call last)",
      "\u001b[0;32m<ipython-input-8-f659d99218a4>\u001b[0m in \u001b[0;36m<module>\u001b[0;34m\u001b[0m\n\u001b[1;32m      1\u001b[0m \u001b[0mproject\u001b[0m \u001b[0;34m=\u001b[0m \u001b[0msignac\u001b[0m\u001b[0;34m.\u001b[0m\u001b[0mget_project\u001b[0m\u001b[0;34m(\u001b[0m\u001b[0;34m)\u001b[0m\u001b[0;34m\u001b[0m\u001b[0;34m\u001b[0m\u001b[0m\n\u001b[1;32m      2\u001b[0m \u001b[0mschema\u001b[0m \u001b[0;34m=\u001b[0m \u001b[0mproject\u001b[0m\u001b[0;34m.\u001b[0m\u001b[0mdetect_schema\u001b[0m\u001b[0;34m(\u001b[0m\u001b[0;34m)\u001b[0m\u001b[0;34m\u001b[0m\u001b[0;34m\u001b[0m\u001b[0m\n\u001b[0;32m----> 3\u001b[0;31m \u001b[0ma\u001b[0m\u001b[0;34m,\u001b[0m \u001b[0mb\u001b[0m \u001b[0;34m=\u001b[0m \u001b[0mschema\u001b[0m\u001b[0;34m.\u001b[0m\u001b[0mitems\u001b[0m\u001b[0;34m(\u001b[0m\u001b[0;34m)\u001b[0m\u001b[0;34m\u001b[0m\u001b[0;34m\u001b[0m\u001b[0m\n\u001b[0m",
      "\u001b[0;31mValueError\u001b[0m: too many values to unpack (expected 2)"
     ]
    }
   ],
   "source": [
    "project = signac.get_project()\n",
    "schema = project.detect_schema()\n",
    "a, b = schema.items()\n"
   ]
  },
  {
   "cell_type": "code",
   "execution_count": 7,
   "metadata": {},
   "outputs": [
    {
     "data": {
      "text/plain": [
       "dict_items([('geometric_rate', defaultdict(<class 'set'>, {<class 'float'>: {0.5, 0.5554444444444444, 0.6663333333333333, 0.8881111111111111, 0.7772222222222223, 0.999, 0.9435555555555555, 0.7217777777777777, 0.8326666666666667, 0.6108888888888889}})), ('kt_initial', defaultdict(<class 'set'>, {<class 'float'>: {129.1549665014884, 359.38136638046257, 1000.0, 10.0, 77.4263682681127, 46.41588833612777, 16.68100537200059, 599.4842503189409, 215.44346900318823, 27.825594022071243}})), ('rep', defaultdict(<class 'set'>, {<class 'int'>: {0, 1, 2, 3, 4, 5, 6, 7, 8, 9, 10, 11, 12, 13, 14, 15, 16, 17, 18, 19, 20, 21, 22, 23, 24, 25, 26, 27, 28, 29, 30, 31, 32, 33, 34, 35, 36, 37, 38, 39, 40, 41, 42, 43, 44, 45, 46, 47, 48, 49}}))])"
      ]
     },
     "execution_count": 7,
     "metadata": {},
     "output_type": "execute_result"
    }
   ],
   "source": [
    "sc_sizes = list(sc_sizes[1][float])\n",
    "sc_sizes.sort()"
   ]
  },
  {
   "cell_type": "code",
   "execution_count": null,
   "metadata": {},
   "outputs": [],
   "source": [
    "sc_sizes"
   ]
  },
  {
   "cell_type": "code",
   "execution_count": null,
   "metadata": {
    "scrolled": true
   },
   "outputs": [],
   "source": [
    "for sc_size in sc_sizes:\n",
    "    print(\"SC Size = \" + str(round(sc_size, 4)))\n",
    "    for job in project.find_jobs({'sc_size':sc_size}):\n",
    "        print(job.id)"
   ]
  },
  {
   "cell_type": "code",
   "execution_count": null,
   "metadata": {},
   "outputs": [],
   "source": [
    "kts = np.array([10 * ( 0.9 ) ** i for i in range(50)])\n",
    "out_steps = np.array([10000 * i for i in range(50) ])\n",
    "print(kts)"
   ]
  },
  {
   "cell_type": "code",
   "execution_count": null,
   "metadata": {
    "scrolled": false
   },
   "outputs": [],
   "source": [
    "for sc_size in sc_sizes:\n",
    "    fig, ax1 = plt.subplots(1,1,figsize = [20,10])\n",
    "    ax2 = ax1.twinx()\n",
    "    ax2.plot(out_steps, kts, 'r')\n",
    "    ax2.set_xlim([0, 500000])\n",
    "    ax2.set_ylabel(\"Simulated Temperature\", color = 'r')\n",
    "    for job in project.find_jobs({'sc_size':sc_size}):\n",
    "        energy_file = job.fn(\"energies.txt\")\n",
    "        if os.path.isfile(energy_file):\n",
    "            energies = pd.read_csv(energy_file, header=None)\n",
    "            ax1.plot(energies.values[:,0], energies.values[:,1], alpha = .4, lw=2)\n",
    "            ax1.set_xlabel(\"Steps\")\n",
    "            ax1.set_ylabel(\"Energy (A.E.U)\")\n",
    "            # ax1.set_xlim([0, 500000])\n",
    "            ax1.set_title(\"SC size = \" + str(round(job.sp['sc_size'],4)))\n",
    "        else:\n",
    "            print(\"sc_size\", sc_size, \"hasn't started yet\")\n",
    "    \n",
    "    ax1.legend([\"rep \" + str(k) for k in range(10)])\n",
    "    \n"
   ]
  },
  {
   "cell_type": "code",
   "execution_count": null,
   "metadata": {},
   "outputs": [],
   "source": [
    "# DBSCAN Clustering\n",
    "test = [sc_sizes[2]] #temporary\n",
    "for sc_size in test:\n",
    "    traj_file_list = []\n",
    "    all_energies = []\n",
    "    for job in project.find_jobs({'sc_size':sc_size}):\n",
    "        structure_file = job.fn('trajectory.pdb')\n",
    "        traj_file_list.append(structure_file)\n",
    "        energy_file = job.fn('energies.txt')\n",
    "        energies = pd.read_csv(energy_file)\n",
    "        all_energies.extend(energies)\n",
    "    "
   ]
  },
  {
   "cell_type": "code",
   "execution_count": 9,
   "metadata": {},
   "outputs": [
    {
     "ename": "IndexError",
     "evalue": "list index out of range",
     "output_type": "error",
     "traceback": [
      "\u001b[0;31m---------------------------------------------------------------------------\u001b[0m",
      "\u001b[0;31mIndexError\u001b[0m                                Traceback (most recent call last)",
      "\u001b[0;32m<ipython-input-9-dcafd3c749e8>\u001b[0m in \u001b[0;36m<module>\u001b[0;34m\u001b[0m\n\u001b[1;32m      1\u001b[0m \u001b[0mmedoid_positions\u001b[0m\u001b[0;34m,\u001b[0m \u001b[0mcluster_sizes\u001b[0m\u001b[0;34m,\u001b[0m \u001b[0mcluster_rmsd\u001b[0m\u001b[0;34m,\u001b[0m \u001b[0mn_noise\u001b[0m\u001b[0;34m,\u001b[0m \u001b[0mlabels\u001b[0m\u001b[0;34m,\u001b[0m \u001b[0msilhouette_avg\u001b[0m \u001b[0;34m=\u001b[0m \u001b[0manalyze_foldamers\u001b[0m\u001b[0;34m.\u001b[0m\u001b[0mcluster\u001b[0m\u001b[0;34m.\u001b[0m\u001b[0;31m\\\u001b[0m\u001b[0;34m\u001b[0m\u001b[0;34m\u001b[0m\u001b[0m\n\u001b[0;32m----> 2\u001b[0;31m \u001b[0mget_cluster_medoid_positions_DBSCAN\u001b[0m\u001b[0;34m(\u001b[0m\u001b[0mtraj_file_list\u001b[0m\u001b[0;34m,\u001b[0m \u001b[0meps\u001b[0m \u001b[0;34m=\u001b[0m \u001b[0;36m0.1\u001b[0m\u001b[0;34m,\u001b[0m \u001b[0mmin_samples\u001b[0m \u001b[0;34m=\u001b[0m \u001b[0;36m5\u001b[0m\u001b[0;34m,\u001b[0m \u001b[0mframe_stride\u001b[0m \u001b[0;34m=\u001b[0m \u001b[0;36m50\u001b[0m\u001b[0;34m,\u001b[0m \u001b[0moutput_dir\u001b[0m\u001b[0;34m=\u001b[0m\u001b[0;34m\"cluster_output\"\u001b[0m\u001b[0;34m,\u001b[0m \u001b[0mcgmodel\u001b[0m\u001b[0;34m=\u001b[0m\u001b[0;32mNone\u001b[0m\u001b[0;34m,\u001b[0m \u001b[0mplot_silhouette\u001b[0m\u001b[0;34m=\u001b[0m\u001b[0;32mTrue\u001b[0m\u001b[0;34m)\u001b[0m\u001b[0;34m\u001b[0m\u001b[0;34m\u001b[0m\u001b[0m\n\u001b[0m",
      "\u001b[0;32m~/Research/analyze_foldamers/analyze_foldamers/ensembles/cluster.py\u001b[0m in \u001b[0;36mget_cluster_medoid_positions_DBSCAN\u001b[0;34m(file_list, cgmodel, min_samples, eps, frame_start, frame_stride, frame_end, output_format, output_dir, plot_silhouette, plot_rmsd_hist, filter, filter_ratio)\u001b[0m\n\u001b[1;32m    264\u001b[0m     \u001b[0mtop_from_pdb\u001b[0m \u001b[0;34m=\u001b[0m \u001b[0;32mNone\u001b[0m\u001b[0;34m\u001b[0m\u001b[0;34m\u001b[0m\u001b[0m\n\u001b[1;32m    265\u001b[0m     \u001b[0;32mif\u001b[0m \u001b[0mcgmodel\u001b[0m \u001b[0;32mis\u001b[0m \u001b[0;32mNone\u001b[0m\u001b[0;34m:\u001b[0m\u001b[0;34m\u001b[0m\u001b[0;34m\u001b[0m\u001b[0m\n\u001b[0;32m--> 266\u001b[0;31m         \u001b[0mtop_from_pdb\u001b[0m \u001b[0;34m=\u001b[0m \u001b[0mfile_list\u001b[0m\u001b[0;34m[\u001b[0m\u001b[0;36m0\u001b[0m\u001b[0;34m]\u001b[0m\u001b[0;34m\u001b[0m\u001b[0;34m\u001b[0m\u001b[0m\n\u001b[0m\u001b[1;32m    267\u001b[0m \u001b[0;34m\u001b[0m\u001b[0m\n\u001b[1;32m    268\u001b[0m     \u001b[0mdistances\u001b[0m\u001b[0;34m,\u001b[0m \u001b[0mtraj_all\u001b[0m \u001b[0;34m=\u001b[0m \u001b[0mget_rmsd_matrix\u001b[0m\u001b[0;34m(\u001b[0m\u001b[0mfile_list\u001b[0m\u001b[0;34m,\u001b[0m \u001b[0mcgmodel\u001b[0m\u001b[0;34m,\u001b[0m \u001b[0mframe_start\u001b[0m\u001b[0;34m,\u001b[0m \u001b[0mframe_stride\u001b[0m\u001b[0;34m,\u001b[0m \u001b[0mframe_end\u001b[0m\u001b[0;34m)\u001b[0m\u001b[0;34m\u001b[0m\u001b[0;34m\u001b[0m\u001b[0m\n",
      "\u001b[0;31mIndexError\u001b[0m: list index out of range"
     ]
    }
   ],
   "source": [
    "medoid_positions, cluster_sizes, cluster_rmsd, n_noise, labels, silhouette_avg = analyze_foldamers.cluster.\\\n",
    "get_cluster_medoid_positions_DBSCAN(traj_file_list, eps = 0.1, min_samples = 5, frame_stride = 50, output_dir=\"cluster_output\", cgmodel=None, plot_silhouette=True)"
   ]
  },
  {
   "cell_type": "code",
   "execution_count": null,
   "metadata": {},
   "outputs": [],
   "source": [
    "dbscan"
   ]
  },
  {
   "cell_type": "code",
   "execution_count": 7,
   "metadata": {
    "scrolled": true
   },
   "outputs": [
    {
     "ename": "ValueError",
     "evalue": "No trajectories specified. filename_or_filenames was an empty list",
     "output_type": "error",
     "traceback": [
      "\u001b[0;31m---------------------------------------------------------------------------\u001b[0m",
      "\u001b[0;31mValueError\u001b[0m                                Traceback (most recent call last)",
      "\u001b[0;32m<ipython-input-7-423c64de24d9>\u001b[0m in \u001b[0;36m<module>\u001b[0;34m\u001b[0m\n\u001b[1;32m     18\u001b[0m             \u001b[0;32melse\u001b[0m\u001b[0;34m:\u001b[0m\u001b[0;34m\u001b[0m\u001b[0;34m\u001b[0m\u001b[0m\n\u001b[1;32m     19\u001b[0m                 \u001b[0mprint\u001b[0m\u001b[0;34m(\u001b[0m\u001b[0;34m\"sc_size\"\u001b[0m\u001b[0;34m,\u001b[0m \u001b[0msc_size\u001b[0m\u001b[0;34m,\u001b[0m \u001b[0;34m\"hasn't started yet\"\u001b[0m\u001b[0;34m)\u001b[0m\u001b[0;34m\u001b[0m\u001b[0;34m\u001b[0m\u001b[0m\n\u001b[0;32m---> 20\u001b[0;31m     \u001b[0mtraj\u001b[0m \u001b[0;34m=\u001b[0m \u001b[0mmd\u001b[0m\u001b[0;34m.\u001b[0m\u001b[0mload\u001b[0m\u001b[0;34m(\u001b[0m\u001b[0mtraj_file_name_list\u001b[0m\u001b[0;34m)\u001b[0m\u001b[0;34m\u001b[0m\u001b[0;34m\u001b[0m\u001b[0m\n\u001b[0m\u001b[1;32m     21\u001b[0m     \u001b[0mmedoid_positions\u001b[0m\u001b[0;34m,\u001b[0m \u001b[0mcluster_sizes\u001b[0m\u001b[0;34m,\u001b[0m \u001b[0mcluster_rmsd\u001b[0m\u001b[0;34m,\u001b[0m \u001b[0mcluster_indices\u001b[0m\u001b[0;34m,\u001b[0m \u001b[0msilhouette_avg\u001b[0m \u001b[0;34m=\u001b[0m \u001b[0manalyze_foldamers\u001b[0m\u001b[0;34m.\u001b[0m\u001b[0mcluster\u001b[0m\u001b[0;34m.\u001b[0m\u001b[0;31m\\\u001b[0m\u001b[0;34m\u001b[0m\u001b[0;34m\u001b[0m\u001b[0m\n\u001b[1;32m     22\u001b[0m     \u001b[0mget_cluster_medoid_positions_KMedoids\u001b[0m\u001b[0;34m(\u001b[0m\u001b[0mtraj_file_name_list\u001b[0m\u001b[0;34m,\u001b[0m \u001b[0mn_clusters\u001b[0m \u001b[0;34m=\u001b[0m \u001b[0mn_clusters\u001b[0m\u001b[0;34m,\u001b[0m \u001b[0moutput_dir\u001b[0m\u001b[0;34m=\u001b[0m\u001b[0;34m\"cluster_output\"\u001b[0m\u001b[0;34m,\u001b[0m \u001b[0mcgmodel\u001b[0m\u001b[0;34m=\u001b[0m\u001b[0;32mNone\u001b[0m\u001b[0;34m,\u001b[0m \u001b[0mplot_silhouette\u001b[0m\u001b[0;34m=\u001b[0m\u001b[0;32mTrue\u001b[0m\u001b[0;34m)\u001b[0m\u001b[0;34m\u001b[0m\u001b[0;34m\u001b[0m\u001b[0m\n",
      "\u001b[0;32m~/anaconda3/envs/cg_pyrosetta/lib/python3.6/site-packages/mdtraj/core/trajectory.py\u001b[0m in \u001b[0;36mload\u001b[0;34m(filename_or_filenames, discard_overlapping_frames, **kwargs)\u001b[0m\n\u001b[1;32m    384\u001b[0m         \u001b[0mextensions\u001b[0m \u001b[0;34m=\u001b[0m \u001b[0;34m[\u001b[0m\u001b[0m_get_extension\u001b[0m\u001b[0;34m(\u001b[0m\u001b[0mf\u001b[0m\u001b[0;34m)\u001b[0m \u001b[0;32mfor\u001b[0m \u001b[0mf\u001b[0m \u001b[0;32min\u001b[0m \u001b[0mfilename_or_filenames\u001b[0m\u001b[0;34m]\u001b[0m\u001b[0;34m\u001b[0m\u001b[0;34m\u001b[0m\u001b[0m\n\u001b[1;32m    385\u001b[0m         \u001b[0;32mif\u001b[0m \u001b[0mlen\u001b[0m\u001b[0;34m(\u001b[0m\u001b[0mset\u001b[0m\u001b[0;34m(\u001b[0m\u001b[0mextensions\u001b[0m\u001b[0;34m)\u001b[0m\u001b[0;34m)\u001b[0m \u001b[0;34m==\u001b[0m \u001b[0;36m0\u001b[0m\u001b[0;34m:\u001b[0m\u001b[0;34m\u001b[0m\u001b[0;34m\u001b[0m\u001b[0m\n\u001b[0;32m--> 386\u001b[0;31m             raise ValueError('No trajectories specified. '\n\u001b[0m\u001b[1;32m    387\u001b[0m                              'filename_or_filenames was an empty list')\n\u001b[1;32m    388\u001b[0m         \u001b[0;32melif\u001b[0m \u001b[0mlen\u001b[0m\u001b[0;34m(\u001b[0m\u001b[0mset\u001b[0m\u001b[0;34m(\u001b[0m\u001b[0mextensions\u001b[0m\u001b[0;34m)\u001b[0m\u001b[0;34m)\u001b[0m \u001b[0;34m>\u001b[0m \u001b[0;36m1\u001b[0m\u001b[0;34m:\u001b[0m\u001b[0;34m\u001b[0m\u001b[0;34m\u001b[0m\u001b[0m\n",
      "\u001b[0;31mValueError\u001b[0m: No trajectories specified. filename_or_filenames was an empty list"
     ]
    },
    {
     "data": {
      "text/plain": [
       "<Figure size 432x288 with 0 Axes>"
      ]
     },
     "metadata": {},
     "output_type": "display_data"
    }
   ],
   "source": [
    "# RMSD (to mediod centers) vs Energy\n",
    "sc_sizes = [1.0]\n",
    "\n",
    "n_clusters = 2\n",
    "avg_cluster_scores = []\n",
    "for sc_size in sc_sizes:\n",
    "    plt.figure()\n",
    "    traj_file_name_list = []\n",
    "    all_energies = []\n",
    "    for job in project.find_jobs({'sc_size':sc_size}):\n",
    "            energy_file = job.fn(\"energies.txt\")\n",
    "            if os.path.isfile(energy_file):\n",
    "                energies = pd.read_csv(energy_file, header=None)\n",
    "                all_energies.extend(energies.values[:, 1])\n",
    "                structure_file = job.fn(\"structure.txt\")\n",
    "                struct_loc = pd.read_csv(structure_file, header=None)\n",
    "                traj_file_name_list.extend([job.fn(file) for file in struct_loc[1].values])\n",
    "            else:\n",
    "                print(\"sc_size\", sc_size, \"hasn't started yet\")\n",
    "    traj = md.load(traj_file_name_list)\n",
    "    medoid_positions, cluster_sizes, cluster_rmsd, cluster_indices, silhouette_avg = analyze_foldamers.cluster.\\\n",
    "    get_cluster_medoid_positions_KMedoids(traj_file_name_list, n_clusters = n_clusters, output_dir=\"cluster_output\", cgmodel=None, plot_silhouette=True)\n",
    "    traj.save_pdb(\"test.pdb\")\n",
    "    "
   ]
  },
  {
   "cell_type": "code",
   "execution_count": 9,
   "metadata": {},
   "outputs": [
    {
     "data": {
      "text/plain": [
       "(array([0., 0., 0., 0., 0., 0., 0., 0., 0., 0., 0., 0., 0., 0., 0., 0., 0.,\n",
       "        0., 0., 0., 0., 0., 0., 0., 0., 0., 0., 0., 0., 0.]),\n",
       " array([0.        , 0.03333333, 0.06666667, 0.1       , 0.13333333,\n",
       "        0.16666667, 0.2       , 0.23333333, 0.26666667, 0.3       ,\n",
       "        0.33333333, 0.36666667, 0.4       , 0.43333333, 0.46666667,\n",
       "        0.5       , 0.53333333, 0.56666667, 0.6       , 0.63333333,\n",
       "        0.66666667, 0.7       , 0.73333333, 0.76666667, 0.8       ,\n",
       "        0.83333333, 0.86666667, 0.9       , 0.93333333, 0.96666667,\n",
       "        1.        ]),\n",
       " <a list of 30 Patch objects>)"
      ]
     },
     "execution_count": 9,
     "metadata": {},
     "output_type": "execute_result"
    },
    {
     "data": {
      "image/png": "[encoded data removed]",
      "text/plain": [
       "<Figure size 432x288 with 1 Axes>"
      ]
     },
     "metadata": {
      "needs_background": "light"
     },
     "output_type": "display_data"
    }
   ],
   "source": [
    "# Distribution of minimum energy structures\n",
    "sorted_energies = copy.deepcopy(all_energies)\n",
    "sorted_energies.sort()\n",
    "plt.hist(sorted_energies[:1000], bins=30)"
   ]
  },
  {
   "cell_type": "code",
   "execution_count": null,
   "metadata": {},
   "outputs": [],
   "source": [
    "silhouette_avg"
   ]
  },
  {
   "cell_type": "code",
   "execution_count": null,
   "metadata": {},
   "outputs": [],
   "source": [
    "plt.figure()\n",
    "for i in range(n_clusters):\n",
    "    medoid_mdtraj = md.load(\"cluster_output/medoid_\" + str(i) + \".pdb\")\n",
    "    rmsds_medoid_i = md.rmsd(traj, medoid_mdtraj)\n",
    "    plt.scatter(rmsds_medoid_i[cluster_indices[i]], [all_energies[a] for a in cluster_indices[i]], s = 1)\n",
    "    plt.xlabel(\"RMSD to Mediod \" + str(i+1))\n",
    "    plt.ylabel(\"Energies\")\n",
    "    plt.title(job.sp)\n",
    "plt.legend([\"cluster \" + str(i + 1) for i in range(n_clusters)])\n",
    "plt.savefig(job.fn(\"kmedoid_rmsd_energy_scatter.jpg\"), dpi=600)\n",
    "    "
   ]
  },
  {
   "cell_type": "code",
   "execution_count": null,
   "metadata": {},
   "outputs": [],
   "source": [
    "legend_list.extend([\"Structure A\", \"Structure B\", \"Structure C\", \"Structure D\", \"Structure E\", \"Structure F\"])\n",
    "len(legend_list)"
   ]
  },
  {
   "cell_type": "code",
   "execution_count": 8,
   "metadata": {
    "scrolled": false
   },
   "outputs": [
    {
     "ename": "NameError",
     "evalue": "name 'traj_file_name_list' is not defined",
     "output_type": "error",
     "traceback": [
      "\u001b[0;31m---------------------------------------------------------------------------\u001b[0m",
      "\u001b[0;31mNameError\u001b[0m                                 Traceback (most recent call last)",
      "\u001b[0;32m<ipython-input-8-3c0d99007542>\u001b[0m in \u001b[0;36m<module>\u001b[0;34m\u001b[0m\n\u001b[1;32m      3\u001b[0m \u001b[0;32mfor\u001b[0m \u001b[0msc_size\u001b[0m \u001b[0;32min\u001b[0m \u001b[0msc_sizes\u001b[0m\u001b[0;34m:\u001b[0m\u001b[0;34m\u001b[0m\u001b[0;34m\u001b[0m\u001b[0m\n\u001b[1;32m      4\u001b[0m     \u001b[0mplt\u001b[0m\u001b[0;34m.\u001b[0m\u001b[0mfigure\u001b[0m\u001b[0;34m(\u001b[0m\u001b[0mfigsize\u001b[0m \u001b[0;34m=\u001b[0m \u001b[0;34m[\u001b[0m\u001b[0;36m20\u001b[0m\u001b[0;34m,\u001b[0m\u001b[0;36m10\u001b[0m\u001b[0;34m]\u001b[0m\u001b[0;34m)\u001b[0m\u001b[0;34m\u001b[0m\u001b[0;34m\u001b[0m\u001b[0m\n\u001b[0;32m----> 5\u001b[0;31m     \u001b[0mall_traj\u001b[0m \u001b[0;34m=\u001b[0m \u001b[0mmd\u001b[0m\u001b[0;34m.\u001b[0m\u001b[0mload\u001b[0m\u001b[0;34m(\u001b[0m\u001b[0mtraj_file_name_list\u001b[0m\u001b[0;34m)\u001b[0m\u001b[0;34m\u001b[0m\u001b[0;34m\u001b[0m\u001b[0m\n\u001b[0m\u001b[1;32m      6\u001b[0m \u001b[0;34m\u001b[0m\u001b[0m\n\u001b[1;32m      7\u001b[0m     \u001b[0;32mfor\u001b[0m \u001b[0mjob\u001b[0m \u001b[0;32min\u001b[0m \u001b[0mproject\u001b[0m\u001b[0;34m.\u001b[0m\u001b[0mfind_jobs\u001b[0m\u001b[0;34m(\u001b[0m\u001b[0;34m{\u001b[0m\u001b[0;34m'sc_size'\u001b[0m\u001b[0;34m:\u001b[0m\u001b[0msc_size\u001b[0m\u001b[0;34m}\u001b[0m\u001b[0;34m)\u001b[0m\u001b[0;34m:\u001b[0m\u001b[0;34m\u001b[0m\u001b[0;34m\u001b[0m\u001b[0m\n",
      "\u001b[0;31mNameError\u001b[0m: name 'traj_file_name_list' is not defined"
     ]
    },
    {
     "data": {
      "text/plain": [
       "<Figure size 1440x720 with 0 Axes>"
      ]
     },
     "metadata": {},
     "output_type": "display_data"
    }
   ],
   "source": [
    "# RMSD (to minimum energy structure) vs Energy\n",
    "\n",
    "for sc_size in sc_sizes:\n",
    "    plt.figure(figsize = [20,10])\n",
    "    all_traj = md.load(traj_file_name_list)\n",
    "\n",
    "    for job in project.find_jobs({'sc_size':sc_size}):\n",
    "        # Get MC traj\n",
    "        structure_file = job.fn(\"structure.txt\")\n",
    "        struct_loc = pd.read_csv(structure_file, header=None)\n",
    "        traj = md.load([job.fn(file) for file in struct_loc[1].values])\n",
    "\n",
    "        # Get minimum energy structure\n",
    "        energy_file = job.fn(\"energies.txt\")\n",
    "        energies = pd.read_csv(energy_file, header=None).values[:,1]\n",
    "        \n",
    "        min_energy_index = np.where(all_energies == np.min(all_energies))\n",
    "        min_energy_struct = all_traj.slice(min_energy_index)\n",
    "\n",
    "        # Compute RMSDs to trajectory\n",
    "        rmsds_medoid_i = md.rmsd(traj, min_energy_struct)\n",
    "\n",
    "        plt.scatter(rmsds_medoid_i, energies, s = 1)\n",
    "        \n",
    "        \n",
    "        \n",
    "    # Get ALL MC traj\n",
    "    structure_file = job.fn(\"structure.txt\")\n",
    "    struct_loc = pd.read_csv(structure_file, header=None)\n",
    "    traj = md.load(traj_file_name_list)\n",
    "\n",
    "    # Get minimum energy structure\n",
    "    min_energy_index= np.where(all_energies == np.min(all_energies))\n",
    "    min_energy_struct = traj.slice(min_energy_index)\n",
    "\n",
    "    # Compute RMSDs to trajectory\n",
    "    rmsds_medoid_i = md.rmsd(traj, min_energy_struct)\n",
    "    \n",
    "    # plt.figure(figsize = [20,10])\n",
    "    # plt.scatter(rmsds_medoid_i, all_energies, s = 1)\n",
    "\n",
    "        \n",
    "    # Minimum energy structure\n",
    "    \n",
    "    minimum_index = min_energy_index[0][0]\n",
    "    poi_1 = np.where(all_energies == sorted_energies[450])[0][0]\n",
    "    poi_2 = np.where(all_energies == sorted_energies[471])[0][0]\n",
    "    poi_3 = np.where(all_energies == sorted_energies[1400])[0][0]\n",
    "    poi_4 = np.where(all_energies == sorted_energies[2300])[0][0]\n",
    "    poi_5 = np.where(all_energies == sorted_energies[700])[0][0]\n",
    "    \n",
    "    min_energy_struct.save_pdb(\"overall_minimim.pdb\")\n",
    "    plt.scatter(rmsds_medoid_i[minimum_index], all_energies[minimum_index], c = 'r', s = 150, marker = 'D')\n",
    "    plt.scatter(rmsds_medoid_i[poi_1], all_energies[poi_1], c = 'g', s = 150, marker = 'D')\n",
    "    plt.scatter(rmsds_medoid_i[poi_2], all_energies[poi_2], c = 'y', s = 150, marker = 'D')\n",
    "    plt.scatter(rmsds_medoid_i[poi_3], all_energies[poi_3], c = 'k', s = 150, marker = 'D')\n",
    "    plt.scatter(rmsds_medoid_i[poi_4], all_energies[poi_4], c = 'm', s = 150, marker = 'D')\n",
    "    plt.scatter(rmsds_medoid_i[poi_5], all_energies[poi_5], c = 'C1', s = 150, marker = 'D')\n",
    "    legend_list = [\"rep \" + str(i) for i in range(10)]\n",
    "    legend_list.extend([\"Structure A\", \"Structure B\", \"Structure C\", \"Structure D\", \"Structure E\", \"Structure F\"])\n",
    "    plt.legend(legend_list)\n",
    "    plt.xlabel(\"RMSD to Minimum Energy Structure\")\n",
    "    plt.ylabel(\"Energies\")\n",
    "    plt.savefig(\"min_energy_rmsd_energy_scatter.jpg\", dpi=600)\n",
    "\n"
   ]
  },
  {
   "cell_type": "code",
   "execution_count": null,
   "metadata": {},
   "outputs": [],
   "source": [
    "# Minimum energy structure\n",
    "\n",
    "minimum_index = min_energy_index[0][0]\n",
    "poi_1 = np.where(all_energies == sorted_energies[450])[0][0]\n",
    "poi_2 = np.where(all_energies == sorted_energies[471])[0][0]\n",
    "poi_3 = np.where(all_energies == sorted_energies[1400])[0][0]\n",
    "poi_4 = np.where(all_energies == sorted_energies[2300])[0][0]\n",
    "poi_5 = np.where(all_energies == sorted_energies[700])[0][0]\n",
    "\n",
    "print(\"Minimum energy structure location:\", traj_file_name_list[minimum_index])\n",
    "print(\"Point of Interest 1 location:\", traj_file_name_list[poi_1])\n",
    "print(\"Point of Interest 2 location:\", traj_file_name_list[poi_2])\n",
    "print(\"Point of Interest 3 location:\", traj_file_name_list[poi_3])\n",
    "print(\"Point of Interest 4 location:\", traj_file_name_list[poi_4])\n",
    "print(\"Point of Interest 5 location:\", traj_file_name_list[poi_5])\n",
    "\n",
    "\n",
    "\n",
    "min_energy_struct.save_pdb(\"overall_minimim.pdb\")\n",
    "plt.figure(figsize = [20,10])\n",
    "plt.scatter(rmsds_medoid_i, all_energies, s = 10, label = None)\n",
    "plt.scatter(rmsds_medoid_i[minimum_index], all_energies[minimum_index], c = 'r', s = 150, marker = 'D')\n",
    "plt.scatter(rmsds_medoid_i[poi_1], all_energies[poi_1], c = 'g', s = 150, marker = 'D')\n",
    "plt.scatter(rmsds_medoid_i[poi_2], all_energies[poi_2], c = 'y', s = 150, marker = 'D')\n",
    "plt.scatter(rmsds_medoid_i[poi_3], all_energies[poi_3], c = 'k', s = 150, marker = 'D')\n",
    "plt.scatter(rmsds_medoid_i[poi_4], all_energies[poi_4], c = 'm', s = 150, marker = 'D')\n",
    "plt.scatter(rmsds_medoid_i[poi_5], all_energies[poi_5], c = 'C1', s = 150, marker = 'D')\n",
    "plt.legend([\"All structures\", \"Structure A\", \"Structure B\", \"Structure C\", \"Structure D\", \"Structure E\", \"Structure F\"])\n",
    "plt.xlabel(\"RMSD to Minimum Energy Structure\")\n",
    "plt.ylabel(\"Energy (A.E.U)\")\n",
    "plt.savefig(\"min_energy_rmsd_energy_scatter.jpg\", dpi=600)"
   ]
  },
  {
   "cell_type": "code",
   "execution_count": null,
   "metadata": {},
   "outputs": [],
   "source": [
    "rmsd_matrix = np.zeros([traj.n_frames, traj.n_frames])\n",
    "for i in range(traj.n_frames):\n",
    "    rmsd_matrix[:, i] = md.rmsd(traj, traj.slice(i))"
   ]
  },
  {
   "cell_type": "code",
   "execution_count": null,
   "metadata": {},
   "outputs": [],
   "source": [
    "plt.hist(rmsd_matrix.flatten(), bins = 100)\n",
    "plt.ylabel(\"Count\")\n",
    "plt.xlabel(\"RMSDs\")"
   ]
  },
  {
   "cell_type": "code",
   "execution_count": null,
   "metadata": {},
   "outputs": [],
   "source": []
  }
 ],
 "metadata": {
  "kernelspec": {
   "display_name": "Python 3",
   "language": "python",
   "name": "python3"
  },
  "language_info": {
   "codemirror_mode": {
    "name": "ipython",
    "version": 3
   },
   "file_extension": ".py",
   "mimetype": "text/x-python",
   "name": "python",
   "nbconvert_exporter": "python",
   "pygments_lexer": "ipython3",
   "version": "3.6.10"
  }
 },
 "nbformat": 4,
 "nbformat_minor": 4
}
