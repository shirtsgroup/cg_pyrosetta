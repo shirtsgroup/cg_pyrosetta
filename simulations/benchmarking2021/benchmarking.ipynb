{
 "cells": [
  {
   "cell_type": "code",
   "execution_count": 1,
   "metadata": {},
   "outputs": [],
   "source": [
    "import signac\n",
    "import matplotlib.pyplot as plt\n",
    "import os\n",
    "import numpy as np"
   ]
  },
  {
   "cell_type": "code",
   "execution_count": 2,
   "metadata": {},
   "outputs": [
    {
     "name": "stdout",
     "output_type": "stream",
     "text": [
      "/mnt/bridges/simulations/benchmarking2021\n"
     ]
    }
   ],
   "source": [
    "top_dir = os.path.abspath(\".\")\n",
    "print(top_dir)"
   ]
  },
  {
   "cell_type": "code",
   "execution_count": 3,
   "metadata": {},
   "outputs": [
    {
     "name": "stdout",
     "output_type": "stream",
     "text": [
      "/mnt/bridges/simulations/benchmarking2021\n"
     ]
    }
   ],
   "source": [
    "# Reset to top dir\n",
    "os.chdir(top_dir)\n",
    "print(os.path.abspath(\".\"))"
   ]
  },
  {
   "cell_type": "code",
   "execution_count": 4,
   "metadata": {},
   "outputs": [
    {
     "name": "stdout",
     "output_type": "stream",
     "text": [
      "CG11x3\n",
      "CG31\n",
      "CG12x3\n",
      "CG21x2\n",
      "CG10x3\n",
      "CG13x3\n"
     ]
    }
   ],
   "source": [
    "for directory in os.listdir():\n",
    "    if \".\" not in directory:\n",
    "        print(directory)"
   ]
  },
  {
   "cell_type": "code",
   "execution_count": 5,
   "metadata": {},
   "outputs": [],
   "source": [
    "res_to_particles = {\"CG11x3\":6, \"CG31\":4, \"CG12x3\":9, \"CG21x2\":6, \"CG10x3\":3}"
   ]
  },
  {
   "cell_type": "code",
   "execution_count": 6,
   "metadata": {
    "scrolled": false
   },
   "outputs": [
    {
     "name": "stdout",
     "output_type": "stream",
     "text": [
      "Working on  /mnt/bridges/simulations/benchmarking2021/CG11x3\n",
      "Working on  /mnt/bridges/simulations/benchmarking2021/CG31\n",
      "Working on  /mnt/bridges/simulations/benchmarking2021/CG12x3\n",
      "Working on  /mnt/bridges/simulations/benchmarking2021/CG21x2\n",
      "Working on  /mnt/bridges/simulations/benchmarking2021/CG10x3\n",
      "Skipping CG13x3\n"
     ]
    },
    {
     "data": {
      "text/plain": [
       "<matplotlib.legend.Legend at 0x7fc0628eae80>"
      ]
     },
     "execution_count": 6,
     "metadata": {},
     "output_type": "execute_result"
    },
    {
     "data": {
      "image/png": "[encoded data removed]",
      "text/plain": [
       "<Figure size 360x360 with 1 Axes>"
      ]
     },
     "metadata": {
      "needs_background": "light"
     },
     "output_type": "display_data"
    }
   ],
   "source": [
    "plt.figure(figsize = [5,5])\n",
    "legend = []\n",
    "store_means = {}\n",
    "for directory in os.listdir():\n",
    "    if \".\" not in directory:\n",
    "        if directory == \"CG13x3\":\n",
    "            print(\"Skipping\", directory)\n",
    "            continue\n",
    "        print(\"Working on \", os.path.abspath(directory))\n",
    "        os.chdir(directory)\n",
    "        project = signac.get_project()\n",
    "        schema = project.detect_schema()\n",
    "        \n",
    "        # Turning defaultdict into a python dictionary\n",
    "        schema_values = [*schema.items()]\n",
    "        statepoints = {}\n",
    "        for sp in schema_values:\n",
    "            for key in sp[1].keys():\n",
    "                statepoints[sp[0]] = list(sp[1][key])\n",
    "                statepoints[sp[0]].sort()\n",
    "        means = []\n",
    "        rates = []\n",
    "        rates_stds = []\n",
    "        stds = []\n",
    "        for nmer_size in statepoints['nmer']:\n",
    "            timings = []\n",
    "            for job in project.find_jobs({'nmer':nmer_size}):\n",
    "                timings.append(job.data['timing'])\n",
    "            means.append(np.mean(timings))\n",
    "            stds.append(np.std(timings))\n",
    "            rates.append(np.mean(500000/np.array(timings)))\n",
    "            rates_stds.append(np.std(500000/np.array(timings)))\n",
    "        means = np.array(means)\n",
    "        stds = np.array(stds)\n",
    "        store_means[directory] = means\n",
    "        \n",
    "        plt.errorbar(np.array(statepoints['nmer'])*res_to_particles[directory], means, yerr = stds)\n",
    "        plt.ylabel(\"Simulation Time (Seconds)\")\n",
    "        plt.xlabel(\"Number of particles\")\n",
    "        legend.append(directory)\n",
    "        os.chdir(top_dir)\n",
    "plt.legend(legend)"
   ]
  },
  {
   "cell_type": "code",
   "execution_count": 33,
   "metadata": {},
   "outputs": [
    {
     "data": {
      "text/plain": [
       "2077.7790591168405"
      ]
     },
     "execution_count": 33,
     "metadata": {},
     "output_type": "execute_result"
    }
   ],
   "source": [
    "np.mean([store_means[key][4] for key in store_means.keys()])"
   ]
  },
  {
   "cell_type": "code",
   "execution_count": 25,
   "metadata": {},
   "outputs": [
    {
     "data": {
      "text/plain": [
       "2882.6582502827046"
      ]
     },
     "execution_count": 25,
     "metadata": {},
     "output_type": "execute_result"
    }
   ],
   "source": [
    "grand_mean = []\n",
    "for key in store_means.keys():\n",
    "    for value in store_means[key]:\n",
    "        grand_mean.append(value)\n",
    "np.mean(grand_mean)"
   ]
  },
  {
   "cell_type": "code",
   "execution_count": 8,
   "metadata": {},
   "outputs": [],
   "source": [
    "# Turning defaultdict into a python dictionary\n",
    "schema_values = [*schema.items()]\n",
    "statepoints = {}\n",
    "for sp in schema_values:\n",
    "    for key in sp[1].keys():\n",
    "        statepoints[sp[0]] = list(sp[1][key])\n",
    "        statepoints[sp[0]].sort()"
   ]
  },
  {
   "cell_type": "code",
   "execution_count": 9,
   "metadata": {},
   "outputs": [
    {
     "data": {
      "text/plain": [
       "{'nmer': [3, 4, 5, 6, 7, 8, 9, 10, 11, 12],\n",
       " 'rep': [0, 1, 2, 3, 4, 5, 6, 7, 8, 9, 10, 11, 12, 13, 14, 15, 16, 17, 18, 19]}"
      ]
     },
     "execution_count": 9,
     "metadata": {},
     "output_type": "execute_result"
    }
   ],
   "source": [
    "statepoints"
   ]
  },
  {
   "cell_type": "code",
   "execution_count": 10,
   "metadata": {},
   "outputs": [
    {
     "name": "stdout",
     "output_type": "stream",
     "text": [
      "CG foldamers of with 9 monomers took:\n",
      "314.1018943667412 seconds\n",
      "1591.840128847509 steps/seconds\n",
      "CG foldamers of with 12 monomers took:\n",
      "398.50385649204253 seconds\n",
      "1254.6930019734557 steps/seconds\n",
      "CG foldamers of with 15 monomers took:\n",
      "507.2374813556671 seconds\n",
      "985.7315722483207 steps/seconds\n",
      "CG foldamers of with 18 monomers took:\n",
      "633.0699242353439 seconds\n",
      "789.8021701219293 steps/seconds\n",
      "CG foldamers of with 21 monomers took:\n",
      "747.158235347271 seconds\n",
      "669.2022872070806 steps/seconds\n",
      "CG foldamers of with 24 monomers took:\n",
      "890.9022400498391 seconds\n",
      "561.2288054995 steps/seconds\n",
      "CG foldamers of with 27 monomers took:\n",
      "1066.0906692624092 seconds\n",
      "469.00326061941104 steps/seconds\n",
      "CG foldamers of with 30 monomers took:\n",
      "1220.5718689084053 seconds\n",
      "409.64404697215025 steps/seconds\n",
      "CG foldamers of with 33 monomers took:\n",
      "1449.0480807065965 seconds\n",
      "345.054112874009 steps/seconds\n",
      "CG foldamers of with 36 monomers took:\n",
      "1649.2828455090523 seconds\n",
      "303.16206911475797 steps/seconds\n"
     ]
    }
   ],
   "source": [
    "means = []\n",
    "rates = []\n",
    "rates_stds = []\n",
    "stds = []\n",
    "for nmer_size in statepoints['nmer']:\n",
    "    timings = []\n",
    "    for job in project.find_jobs({'nmer':nmer_size}):\n",
    "        timings.append(job.data['timing'])\n",
    "    print(\"CG foldamers of with\", nmer_size*3, \"monomers took:\")\n",
    "    print(np.mean(timings), \"seconds\")\n",
    "    print(500000/np.mean(timings), \"steps/seconds\")\n",
    "    means.append(np.mean(timings))\n",
    "    stds.append(np.std(timings))\n",
    "    rates.append(np.mean(500000/np.array(timings)))\n",
    "    rates_stds.append(np.std(500000/np.array(timings)))\n",
    "means = np.array(means)\n",
    "stds = np.array(stds)"
   ]
  },
  {
   "cell_type": "code",
   "execution_count": 4,
   "metadata": {},
   "outputs": [
    {
     "ename": "NameError",
     "evalue": "name 'statepoints' is not defined",
     "output_type": "error",
     "traceback": [
      "\u001b[0;31m---------------------------------------------------------------------------\u001b[0m",
      "\u001b[0;31mNameError\u001b[0m                                 Traceback (most recent call last)",
      "\u001b[0;32m<ipython-input-4-ca5b6bab27c6>\u001b[0m in \u001b[0;36m<module>\u001b[0;34m\u001b[0m\n\u001b[1;32m      1\u001b[0m \u001b[0mplt\u001b[0m\u001b[0;34m.\u001b[0m\u001b[0mfigure\u001b[0m\u001b[0;34m(\u001b[0m\u001b[0mfigsize\u001b[0m \u001b[0;34m=\u001b[0m \u001b[0;34m[\u001b[0m\u001b[0;36m10\u001b[0m\u001b[0;34m,\u001b[0m\u001b[0;36m10\u001b[0m\u001b[0;34m]\u001b[0m\u001b[0;34m)\u001b[0m\u001b[0;34m\u001b[0m\u001b[0;34m\u001b[0m\u001b[0m\n\u001b[0;32m----> 2\u001b[0;31m \u001b[0mplt\u001b[0m\u001b[0;34m.\u001b[0m\u001b[0merrorbar\u001b[0m\u001b[0;34m(\u001b[0m\u001b[0mnp\u001b[0m\u001b[0;34m.\u001b[0m\u001b[0marray\u001b[0m\u001b[0;34m(\u001b[0m\u001b[0mstatepoints\u001b[0m\u001b[0;34m[\u001b[0m\u001b[0;34m'nmer'\u001b[0m\u001b[0;34m]\u001b[0m\u001b[0;34m)\u001b[0m\u001b[0;34m*\u001b[0m\u001b[0;36m3\u001b[0m\u001b[0;34m,\u001b[0m \u001b[0mmeans\u001b[0m\u001b[0;34m,\u001b[0m \u001b[0myerr\u001b[0m \u001b[0;34m=\u001b[0m \u001b[0mstds\u001b[0m\u001b[0;34m)\u001b[0m\u001b[0;34m\u001b[0m\u001b[0;34m\u001b[0m\u001b[0m\n\u001b[0m\u001b[1;32m      3\u001b[0m \u001b[0mplt\u001b[0m\u001b[0;34m.\u001b[0m\u001b[0mylabel\u001b[0m\u001b[0;34m(\u001b[0m\u001b[0;34m\"Simulation Time (Seconds)\"\u001b[0m\u001b[0;34m)\u001b[0m\u001b[0;34m\u001b[0m\u001b[0;34m\u001b[0m\u001b[0m\n\u001b[1;32m      4\u001b[0m \u001b[0mplt\u001b[0m\u001b[0;34m.\u001b[0m\u001b[0mxlabel\u001b[0m\u001b[0;34m(\u001b[0m\u001b[0;34m\"Polymer Size\"\u001b[0m\u001b[0;34m)\u001b[0m\u001b[0;34m\u001b[0m\u001b[0;34m\u001b[0m\u001b[0m\n\u001b[1;32m      5\u001b[0m \u001b[0mplt\u001b[0m\u001b[0;34m.\u001b[0m\u001b[0mlegend\u001b[0m\u001b[0;34m(\u001b[0m\u001b[0;34m[\u001b[0m\u001b[0;34m\"CG11x3\"\u001b[0m\u001b[0;34m]\u001b[0m\u001b[0;34m)\u001b[0m\u001b[0;34m\u001b[0m\u001b[0;34m\u001b[0m\u001b[0m\n",
      "\u001b[0;31mNameError\u001b[0m: name 'statepoints' is not defined"
     ]
    },
    {
     "data": {
      "text/plain": [
       "<Figure size 720x720 with 0 Axes>"
      ]
     },
     "metadata": {},
     "output_type": "display_data"
    }
   ],
   "source": [
    "plt.errorbar(np.array(statepoints['nmer'])*3, means, yerr = stds)\n",
    "plt.ylabel(\"Simulation Time (Seconds)\")\n",
    "plt.xlabel(\"Polymer Size\")\n",
    "plt.legend([\"CG11x3\"])"
   ]
  },
  {
   "cell_type": "code",
   "execution_count": 40,
   "metadata": {},
   "outputs": [
    {
     "data": {
      "text/plain": [
       "887.5967096233369"
      ]
     },
     "execution_count": 40,
     "metadata": {},
     "output_type": "execute_result"
    }
   ],
   "source": [
    "np.mean(means)"
   ]
  },
  {
   "cell_type": "code",
   "execution_count": 41,
   "metadata": {},
   "outputs": [
    {
     "data": {
      "text/plain": [
       "428.4186040226726"
      ]
     },
     "execution_count": 41,
     "metadata": {},
     "output_type": "execute_result"
    }
   ],
   "source": [
    "np.std(means)"
   ]
  },
  {
   "cell_type": "code",
   "execution_count": null,
   "metadata": {},
   "outputs": [],
   "source": []
  }
 ],
 "metadata": {
  "kernelspec": {
   "display_name": "Python 3",
   "language": "python",
   "name": "python3"
  },
  "language_info": {
   "codemirror_mode": {
    "name": "ipython",
    "version": 3
   },
   "file_extension": ".py",
   "mimetype": "text/x-python",
   "name": "python",
   "nbconvert_exporter": "python",
   "pygments_lexer": "ipython3",
   "version": "3.6.10"
  }
 },
 "nbformat": 4,
 "nbformat_minor": 4
}
