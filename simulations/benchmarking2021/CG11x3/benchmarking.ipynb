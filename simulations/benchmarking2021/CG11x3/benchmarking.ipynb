{
 "cells": [
  {
   "cell_type": "code",
   "execution_count": 1,
   "metadata": {},
   "outputs": [],
   "source": [
    "import signac\n",
    "import matplotlib.pyplot as plt\n",
    "import numpy as np"
   ]
  },
  {
   "cell_type": "code",
   "execution_count": 2,
   "metadata": {},
   "outputs": [],
   "source": [
    "project = signac.get_project()\n",
    "schema = project.detect_schema()"
   ]
  },
  {
   "cell_type": "code",
   "execution_count": 3,
   "metadata": {},
   "outputs": [
    {
     "data": {
      "text/plain": [
       "dict_values([defaultdict(<class 'set'>, {<class 'int'>: {3, 4, 5, 6, 7, 8, 9, 10, 11, 12}}), defaultdict(<class 'set'>, {<class 'int'>: {0, 1, 2, 3, 4, 5, 6, 7, 8, 9, 10, 11, 12, 13, 14, 15, 16, 17, 18, 19}})])"
      ]
     },
     "execution_count": 3,
     "metadata": {},
     "output_type": "execute_result"
    }
   ],
   "source": [
    "schema.values()"
   ]
  },
  {
   "cell_type": "code",
   "execution_count": 4,
   "metadata": {},
   "outputs": [],
   "source": [
    "# Turning defaultdict into a python dictionary\n",
    "schema_values = [*schema.items()]\n",
    "statepoints = {}\n",
    "for sp in schema_values:\n",
    "    for key in sp[1].keys():\n",
    "        statepoints[sp[0]] = list(sp[1][key])\n",
    "        statepoints[sp[0]].sort()"
   ]
  },
  {
   "cell_type": "code",
   "execution_count": 5,
   "metadata": {},
   "outputs": [
    {
     "name": "stdout",
     "output_type": "stream",
     "text": [
      "CG foldamers of with 9 monomers took:\n",
      "634.9422341346741 seconds\n",
      "787.473211136161 steps/seconds\n",
      "CG foldamers of with 12 monomers took:\n",
      "940.9515604734421 seconds\n",
      "531.3769815615416 steps/seconds\n",
      "CG foldamers of with 15 monomers took:\n",
      "1290.8827116966247 seconds\n",
      "387.3318586340375 steps/seconds\n",
      "CG foldamers of with 18 monomers took:\n",
      "1664.2618923068046 seconds\n",
      "300.43348484471915 steps/seconds\n",
      "CG foldamers of with 21 monomers took:\n",
      "1976.292572748661 seconds\n",
      "252.99897742599495 steps/seconds\n",
      "CG foldamers of with 24 monomers took:\n",
      "2327.389398276806 seconds\n",
      "214.83297997756583 steps/seconds\n",
      "CG foldamers of with 27 monomers took:\n",
      "2719.754986667633 seconds\n",
      "183.8400894385794 steps/seconds\n",
      "CG foldamers of with 30 monomers took:\n",
      "3116.145552635193 seconds\n",
      "160.45463588091098 steps/seconds\n",
      "CG foldamers of with 33 monomers took:\n",
      "3499.018186724186 seconds\n",
      "142.89722811303955 steps/seconds\n",
      "CG foldamers of with 36 monomers took:\n",
      "4003.8810886263846 seconds\n",
      "124.87883354486321 steps/seconds\n"
     ]
    }
   ],
   "source": [
    "means = []\n",
    "rates = []\n",
    "rates_stds = []\n",
    "stds = []\n",
    "for nmer_size in statepoints['nmer']:\n",
    "    timings = []\n",
    "    for job in project.find_jobs({'nmer':nmer_size}):\n",
    "        timings.append(job.data['timing'])\n",
    "    print(\"CG foldamers of with\", nmer_size*3, \"monomers took:\")\n",
    "    print(np.mean(timings), \"seconds\")\n",
    "    print(500000/np.mean(timings), \"steps/seconds\")\n",
    "    means.append(np.mean(timings))\n",
    "    stds.append(np.std(timings))\n",
    "    rates.append(np.mean(500000/np.array(timings)))\n",
    "    rates_stds.append(np.std(500000/np.array(timings)))\n",
    "means = np.array(means)\n",
    "stds = np.array(stds)"
   ]
  },
  {
   "cell_type": "code",
   "execution_count": 6,
   "metadata": {},
   "outputs": [
    {
     "data": {
      "text/plain": [
       "<matplotlib.legend.Legend at 0x7f9e435dfe48>"
      ]
     },
     "execution_count": 6,
     "metadata": {},
     "output_type": "execute_result"
    },
    {
     "data": {
      "image/png": "[encoded data removed]",
      "text/plain": [
       "<Figure size 720x720 with 1 Axes>"
      ]
     },
     "metadata": {
      "needs_background": "light"
     },
     "output_type": "display_data"
    }
   ],
   "source": [
    "plt.figure(figsize = [10,10])\n",
    "plt.errorbar(np.array(statepoints['nmer'])*3, means, yerr = stds)\n",
    "plt.ylabel(\"Simulation Time (Seconds)\")\n",
    "plt.xlabel(\"Polymer Size\")\n",
    "plt.legend([\"CG11x3\"])"
   ]
  },
  {
   "cell_type": "code",
   "execution_count": 7,
   "metadata": {},
   "outputs": [
    {
     "data": {
      "text/plain": [
       "2217.3520184290405"
      ]
     },
     "execution_count": 7,
     "metadata": {},
     "output_type": "execute_result"
    }
   ],
   "source": [
    "np.mean(means)"
   ]
  },
  {
   "cell_type": "code",
   "execution_count": 8,
   "metadata": {},
   "outputs": [
    {
     "data": {
      "text/plain": [
       "1061.2390703788064"
      ]
     },
     "execution_count": 8,
     "metadata": {},
     "output_type": "execute_result"
    }
   ],
   "source": [
    "np.std(means)"
   ]
  },
  {
   "cell_type": "code",
   "execution_count": null,
   "metadata": {},
   "outputs": [],
   "source": []
  }
 ],
 "metadata": {
  "kernelspec": {
   "display_name": "Python 3",
   "language": "python",
   "name": "python3"
  },
  "language_info": {
   "codemirror_mode": {
    "name": "ipython",
    "version": 3
   },
   "file_extension": ".py",
   "mimetype": "text/x-python",
   "name": "python",
   "nbconvert_exporter": "python",
   "pygments_lexer": "ipython3",
   "version": "3.6.10"
  }
 },
 "nbformat": 4,
 "nbformat_minor": 4
}
